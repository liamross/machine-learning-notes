{
 "cells": [
  {
   "cell_type": "markdown",
   "metadata": {},
   "source": [
    "# Linear algebra review\n",
    "\n",
    "Review of some of the linear algebra required for machine learning."
   ]
  },
  {
   "cell_type": "markdown",
   "metadata": {},
   "source": [
    "For matrix and vector usage in python, we will import the `numpy` package."
   ]
  },
  {
   "cell_type": "code",
   "execution_count": 1,
   "metadata": {},
   "outputs": [],
   "source": [
    "# Basic matrix operators\n",
    "import numpy as np\n",
    "\n",
    "# Inverse a matrix\n",
    "from numpy.linalg import inv"
   ]
  },
  {
   "cell_type": "markdown",
   "metadata": {},
   "source": [
    "## Definitions"
   ]
  },
  {
   "cell_type": "markdown",
   "metadata": {},
   "source": [
    "### Matrix\n",
    "\n",
    "A rectangular array of numbers with dimensions are written as `rows x columns`\n",
    "\n",
    "- \"A 2 x 5 matrix\" is 4 rows, 2 columns\n",
    "- Also could be $\\mathbb{R}^{4\\times2}$\n",
    "\n",
    "> If a matrix is $m \\times m$ it is called a \"square matrix\"\n",
    "\n",
    "Denoting elements of a matrix:\n",
    "\n",
    "$$\n",
    "A = \\begin{bmatrix}\n",
    "1 && 2 && 3 \\\\\n",
    "4 && 5 && 6 \\\\\n",
    "7 && 8 && 9 \\\\\n",
    "10 && 11 && 12\n",
    "\\end{bmatrix}\n",
    "$$"
   ]
  },
  {
   "cell_type": "markdown",
   "metadata": {},
   "source": [
    "Denoting the matrix in python:"
   ]
  },
  {
   "cell_type": "code",
   "execution_count": 2,
   "metadata": {},
   "outputs": [
    {
     "data": {
      "text/plain": [
       "array([[ 1,  2,  3],\n",
       "       [ 4,  5,  6],\n",
       "       [ 7,  8,  9],\n",
       "       [10, 11, 12]])"
      ]
     },
     "execution_count": 2,
     "metadata": {},
     "output_type": "execute_result"
    }
   ],
   "source": [
    "A = np.array([\n",
    "    [1, 2, 3],\n",
    "    [4, 5, 6],\n",
    "    [7, 8, 9],\n",
    "    [10, 11, 12],\n",
    "])\n",
    "A"
   ]
  },
  {
   "cell_type": "markdown",
   "metadata": {},
   "source": [
    "Syntax for an item of the matrix:\n",
    "\n",
    "$$\n",
    "\\begin{align}\n",
    "A_{ij} &= \\text{entry at $i$th row and $j$th column} \\\\\n",
    "A_{42} &= 11\n",
    "\\end{align}\n",
    "$$"
   ]
  },
  {
   "cell_type": "markdown",
   "metadata": {},
   "source": [
    "Items in python are the same except for 0-indexing:"
   ]
  },
  {
   "cell_type": "code",
   "execution_count": 3,
   "metadata": {},
   "outputs": [
    {
     "data": {
      "text/plain": [
       "11"
      ]
     },
     "execution_count": 3,
     "metadata": {},
     "output_type": "execute_result"
    }
   ],
   "source": [
    "A[3, 1]"
   ]
  },
  {
   "cell_type": "markdown",
   "metadata": {},
   "source": [
    "### Vector\n",
    "\n",
    "A single column matrix with dimensions written as `n dimensions`.\n",
    "\n",
    "- \"A 4-dimensional vector\" is 4 rows\n",
    "- Also could be $\\mathbb{R}^{4}$\n",
    "\n",
    "Denoting the elements of a vector:\n",
    "\n",
    "$$\n",
    "y = \\begin{bmatrix}\n",
    "1 \\\\\n",
    "2 \\\\\n",
    "3\n",
    "\\end{bmatrix}\n",
    "$$"
   ]
  },
  {
   "cell_type": "markdown",
   "metadata": {},
   "source": [
    "Denoting the vector in python:"
   ]
  },
  {
   "cell_type": "code",
   "execution_count": 4,
   "metadata": {},
   "outputs": [
    {
     "data": {
      "text/plain": [
       "array([1, 2, 3])"
      ]
     },
     "execution_count": 4,
     "metadata": {},
     "output_type": "execute_result"
    }
   ],
   "source": [
    "y = np.array([1, 2, 3])\n",
    "y"
   ]
  },
  {
   "cell_type": "markdown",
   "metadata": {},
   "source": [
    "Syntax for an item in the vector:\n",
    "\n",
    "$$\n",
    "\\begin{align}\n",
    "y_{i} &= \\text{entry at $i$th row} \\\\\n",
    "y_{2} &= 2\n",
    "\\end{align}\n",
    "$$"
   ]
  },
  {
   "cell_type": "markdown",
   "metadata": {},
   "source": [
    "Items in python (again, same but 0-indexed):"
   ]
  },
  {
   "cell_type": "code",
   "execution_count": 5,
   "metadata": {},
   "outputs": [
    {
     "data": {
      "text/plain": [
       "2"
      ]
     },
     "execution_count": 5,
     "metadata": {},
     "output_type": "execute_result"
    }
   ],
   "source": [
    "y[1]"
   ]
  },
  {
   "cell_type": "markdown",
   "metadata": {},
   "source": [
    "## Notation\n",
    "\n",
    "| Value | Meaning |\n",
    "| :-: | :-- |\n",
    "| $\\begin{bmatrix}a & b\\\\c & d\\end{bmatrix}$ | matrix - multiple columns |\n",
    "| $\\begin{bmatrix}a \\\\ b \\\\ c \\\\ d\\end{bmatrix}$ | vector - a n x 1 matrix |\n",
    "\n",
    "> Generally uppercase letters refer to matrices, whereas lowercase refers to numbers, scalars, and vectors."
   ]
  },
  {
   "cell_type": "markdown",
   "metadata": {},
   "source": [
    "## Matrix addition\n",
    "\n",
    "$$\n",
    "\\begin{bmatrix}1 & 0 \\\\ 2 & 5 \\\\ 3 & 1\\end{bmatrix} + \\begin{bmatrix}4 & 0.5 \\\\ 2 & 5 \\\\ 0 & 1\\end{bmatrix} = A\n",
    "$$\n",
    "\n",
    "$A$ is a result of simply adding each matrix element to another:\n",
    "\n",
    "$$\n",
    "\\begin{bmatrix}1 & 0 \\\\ 2 & 5 \\\\ 3 & 1\\end{bmatrix} +\n",
    "\\begin{bmatrix}4 & 0.5 \\\\ 2 & 5 \\\\ 0 & 1\\end{bmatrix} =\n",
    "\\begin{bmatrix}1+4 & 0+0.5 \\\\ 2+2 & 5+5 \\\\ 3+0 & 1+1\\end{bmatrix} =\n",
    "\\begin{bmatrix}5 & 0.5 \\\\ 4 & 10 \\\\ 3 & 2\\end{bmatrix}\n",
    "$$\n",
    "\n",
    "> You can only add matrices of the same dimension (in the above case, we are adding two $3\\times2$ matrixes"
   ]
  },
  {
   "cell_type": "markdown",
   "metadata": {},
   "source": [
    "## Matrix-scalar multiplication\n",
    "\n",
    "Scalar = \"real number\".\n",
    "\n",
    "$$\n",
    "3\\times\\begin{bmatrix}1 & 0 \\\\ 2 & 5 \\\\ 3 & 1\\end{bmatrix} = A\n",
    "$$\n",
    "\n",
    "$A$ is a result of simply multiplying each matrix element by the scalar:\n",
    "\n",
    "$$\n",
    "3\\times\n",
    "\\begin{bmatrix}1 & 0 \\\\ 2 & 5 \\\\ 3 & 1\\end{bmatrix} =\n",
    "\\begin{bmatrix}1\\times3 & 0\\times3 \\\\ 2\\times3 & 5\\times3 \\\\ 3\\times3 & 1\\times3\\end{bmatrix} =\n",
    "\\begin{bmatrix}3 & 0 \\\\ 6 & 15 \\\\ 9 & 3\\end{bmatrix}\n",
    "$$\n",
    "\n",
    "Division by $n$ is the same as multiplying by $\\frac{1}{n}$:\n",
    "\n",
    "$$\n",
    "\\begin{bmatrix}4 & 0 \\\\ 6 & 3\\end{bmatrix} / 4 =\n",
    "\\begin{bmatrix}4 & 0 \\\\ 6 & 3\\end{bmatrix}\\times\\frac{1}{4} =\n",
    "\\begin{bmatrix}4\\times\\frac{1}{4} & 0\\times\\frac{1}{4} \\\\ 6\\times\\frac{1}{4} & 3\\times\\frac{1}{4}\\end{bmatrix} =\n",
    "\\begin{bmatrix}1 & 0 \\\\ \\frac{3}{2} & \\frac{3}{4}\\end{bmatrix}\n",
    "$$\n"
   ]
  },
  {
   "cell_type": "markdown",
   "metadata": {},
   "source": [
    "## Matrix-vector multiplication\n",
    "\n",
    "To do this, you multiply each row of the matrix by the values in the vector, then add them together:\n",
    "\n",
    "$$\n",
    "\\begin{bmatrix} \\color{red}1 & \\color{red}3 \\\\ \\color{orange}4 & \\color{orange}0 \\\\ \\color{green}2 & \\color{green}1\\end{bmatrix}\n",
    "\\times\n",
    "\\begin{bmatrix}\\color{purple}1 \\\\ \\color{purple}5\\end{bmatrix}\n",
    "=\n",
    "\\begin{bmatrix}\n",
    "\\color{red}1\\times\\color{purple}1 + \\color{red}3\\times\\color{purple}5 \\\\\n",
    "\\color{orange}4\\times\\color{purple}1 + \\color{orange}0\\times\\color{purple}5 \\\\\n",
    "\\color{green}2\\times\\color{purple}1 + \\color{green}1\\times\\color{purple}5\n",
    "\\end{bmatrix}\n",
    "=\n",
    "\\begin{bmatrix} 16 \\\\ 4 \\\\ 7\\end{bmatrix}\n",
    "$$\n",
    "\n",
    "The result of multiplying a $m \\times n$ matrix with a $n \\times 1$ matrix ($n$-dimensional vector) is a $m \\times 1$ matrix ($m$-dimensional vector).\n",
    "\n",
    "> The number of columns in the matrix must match the number of rows in the vector ($n$)."
   ]
  },
  {
   "cell_type": "markdown",
   "metadata": {},
   "source": [
    "### Application\n",
    "\n",
    "A nice way to apply a hypothesis like the [linear hypothesis](./terms/linear_hypothesis.ipynb) to a set of houses:\n",
    "\n",
    "House sizes:\n",
    "- 2104\n",
    "- 1416\n",
    "- 1534\n",
    "- 852\n",
    "\n",
    "$$\n",
    "h_\\theta(x) = -40 + 0.25x\n",
    "$$\n",
    "\n",
    "$$\n",
    "\\begin{bmatrix}1 & 2104 \\\\ 1 & 1416 \\\\ 1 & 1534 \\\\ 1 & 852\\end{bmatrix}\n",
    "\\times\n",
    "\\begin{bmatrix}-40 \\\\ 0.25\\end{bmatrix}\n",
    "=\n",
    "\\begin{bmatrix}486 \\\\ 314 \\\\ 343.5 \\\\ 173\\end{bmatrix}\n",
    "$$\n",
    "\n",
    "- $486 = h_\\theta(2104)$\n",
    "- $314 = h_\\theta(1416)$\n",
    "- $343.5 = h_\\theta(1534)$\n",
    "- $173 = h_\\theta(852)$\n",
    "\n",
    "Calculating this way is much more computationally efficient than running through a for loop with each data point (especially for larger [training sets](./terms/training_set.ipynb))."
   ]
  },
  {
   "cell_type": "code",
   "execution_count": 6,
   "metadata": {},
   "outputs": [
    {
     "data": {
      "text/plain": [
       "array([[486. ],\n",
       "       [314. ],\n",
       "       [343.5],\n",
       "       [173. ]])"
      ]
     },
     "execution_count": 6,
     "metadata": {},
     "output_type": "execute_result"
    }
   ],
   "source": [
    "data_matrix = np.array([\n",
    "    [1, 2104],\n",
    "    [1, 1416],\n",
    "    [1, 1534],\n",
    "    [1, 852],\n",
    "])\n",
    "\n",
    "parameters = np.array([\n",
    "    [-40],\n",
    "    [0.25],\n",
    "])\n",
    "\n",
    "data_matrix @ parameters"
   ]
  },
  {
   "cell_type": "markdown",
   "metadata": {},
   "source": [
    "## Matrix-matrix multiplication\n",
    "\n",
    "Take two matrices:\n",
    "\n",
    "$$\n",
    "A = \\begin{bmatrix}1 & 3 & 2 \\\\ 4 & 0 & 1\\end{bmatrix},\n",
    "B = \\begin{bmatrix}1 & 3 \\\\ 0 & 1 \\\\ 5 & 2\\end{bmatrix}\n",
    "$$\n",
    "\n",
    "Multiply them together:\n",
    "\n",
    "$$\n",
    "\\begin{bmatrix}1 & 3 & 2 \\\\ 4 & 0 & 1\\end{bmatrix}\n",
    "\\times\n",
    "\\begin{bmatrix}\\color{green}1 & \\color{red}3 \\\\ \\color{green}0 & \\color{red}1 \\\\ \\color{green}5 & \\color{red}2\\end{bmatrix}\n",
    "$$\n",
    "\n",
    "First, multiply $A$ by the first column of $B$:\n",
    "\n",
    "$$\n",
    "\\begin{bmatrix}1 & 3 & 2 \\\\ 4 & 0 & 1\\end{bmatrix}\n",
    "\\times\n",
    "\\color{green}{\\begin{bmatrix}1 \\\\ 0 \\\\ 5\\end{bmatrix}}\n",
    "=\n",
    "\\color{blue}{\\begin{bmatrix}11 \\\\ 9\\end{bmatrix}}\n",
    "$$\n",
    "\n",
    "Second, multiply $A$ by the second column of $B$:\n",
    "\n",
    "$$\n",
    "\\begin{bmatrix}1 & 3 & 2 \\\\ 4 & 0 & 1\\end{bmatrix}\n",
    "\\times\n",
    "\\color{red}{\\begin{bmatrix}3 \\\\ 1 \\\\ 2\\end{bmatrix}}\n",
    "=\n",
    "\\color{orange}{\\begin{bmatrix}10 \\\\ 14\\end{bmatrix}}\n",
    "$$\n",
    "\n",
    "Finally, join the two resulting vectors into a matrix:\n",
    "\n",
    "$$\n",
    "C = \\begin{bmatrix} \\color{blue}{11} & \\color{orange}{10} \\\\ \\color{blue}{9} & \\color{orange}{14} \\end{bmatrix}\n",
    "$$\n",
    "\n",
    "The result of multiplying a $m \\times n$ matrix with a $n \\times o$ matrix is a $m \\times o$ matrix.\n",
    "\n",
    "> The number of columns in the first matrix must match the number of rows in the second ($n$).\n",
    "\n",
    "The $i^{th}$ column of the matrix $C$ is obtained by multiplying $A$ with the $i^{th}$ column of $B$ (for $i = 1, 2, ...,o$)"
   ]
  },
  {
   "cell_type": "markdown",
   "metadata": {},
   "source": [
    "### Application\n",
    "\n",
    "A nice way to apply a group of competing hypothesis like the [linear hypothesis](./terms/linear_hypothesis.ipynb) to a set of houses:\n",
    "\n",
    "House sizes:\n",
    "- 2104\n",
    "- 1416\n",
    "- 1534\n",
    "- 852\n",
    "\n",
    "$$\n",
    "\\begin{align}\n",
    "h_\\theta(x) &= -40 + 0.25x \\\\\n",
    "h_\\theta(x) &= 200 + 0.1x \\\\\n",
    "h_\\theta(x) &= -150 + 0.4x\n",
    "\\end{align} \\\\\n",
    "\\begin{bmatrix}1 & 2104 \\\\ 1 & 1416 \\\\ 1 & 1534 \\\\ 1 & 852\\end{bmatrix}\n",
    "\\times\n",
    "\\begin{bmatrix}-40 & 200 & -150 \\\\ 0.25 & 0.1 & 0.4\\end{bmatrix}\n",
    "=\n",
    "\\begin{bmatrix}486 & 410.4 & 691.4 \\\\ 314 & 341.6 & 416.4 \\\\ 343.5 & 353.4 & 463.6 \\\\ 173 & 285.2 & 190.8\\end{bmatrix}\n",
    "$$\n",
    "\n",
    "- first column = predicted prices with first hypothesis\n",
    "- second column = predicted prices with second hypothesis\n",
    "- third column = predicted prices with third hypothesis\n",
    "\n",
    "Calculating this way is much more computationally efficient than running through a for loop with each data point (especially for larger [training sets](./terms/training_set.ipynb))."
   ]
  },
  {
   "cell_type": "code",
   "execution_count": 7,
   "metadata": {},
   "outputs": [
    {
     "data": {
      "text/plain": [
       "array([[486. , 410.4, 691.6],\n",
       "       [314. , 341.6, 416.4],\n",
       "       [343.5, 353.4, 463.6],\n",
       "       [173. , 285.2, 190.8]])"
      ]
     },
     "execution_count": 7,
     "metadata": {},
     "output_type": "execute_result"
    }
   ],
   "source": [
    "data_matrix = np.array([\n",
    "    [1, 2104],\n",
    "    [1, 1416],\n",
    "    [1, 1534],\n",
    "    [1, 852],\n",
    "])\n",
    "\n",
    "parameters = np.array([\n",
    "    [-40, 200, -150],\n",
    "    [0.25, 0.1, 0.4],\n",
    "])\n",
    "\n",
    "data_matrix @ parameters"
   ]
  },
  {
   "cell_type": "markdown",
   "metadata": {},
   "source": [
    "## Matrix multiplication properties"
   ]
  },
  {
   "cell_type": "markdown",
   "metadata": {},
   "source": [
    "### Matrix multiplication _is not_ commutative\n",
    "\n",
    "When multiplying scalars, or matrix $\\times$ scalar, it is \"commutative\" (can be done in either direction). This is **not** true for matrix multiplication. Even the dimensions of the resulting matrix will change depending on the order.\n",
    "\n",
    "$$\n",
    "A \\times B \\neq B \\times A\n",
    "$$"
   ]
  },
  {
   "cell_type": "markdown",
   "metadata": {},
   "source": [
    "### Matrix multiplication _is_ associative\n",
    "\n",
    "When multiplying $n>2$ scalars, you can multiply in any order. The same **is** true for matrices.\n",
    "\n",
    "$$\n",
    "A \\times B \\times C = A \\times (B \\times C) = (A \\times B) \\times C\n",
    "$$"
   ]
  },
  {
   "cell_type": "markdown",
   "metadata": {},
   "source": [
    "### Identity matrix\n",
    "\n",
    "$1$ is \"identity\", in that for any $z: 1 \\times z = z \\times 1 = z$. In matrices, for any matrix $A: A \\times I = I \\times A = A$.\n",
    "\n",
    "> Note that $I$ is different in both cases, as it must match with the columns in $A \\times I$ and rows in $I \\times A$\n",
    "\n",
    "$$\n",
    "2\\times2: \\begin{bmatrix}1 & 0 \\\\ 0 & 1\\end{bmatrix}\n",
    "$$\n",
    "\n",
    "$$\n",
    "3\\times3: \\begin{bmatrix}1 & 0 & 0 \\\\ 0 & 1 & 0 \\\\ 0 & 0 & 1\\end{bmatrix}\n",
    "$$"
   ]
  },
  {
   "cell_type": "code",
   "execution_count": 8,
   "metadata": {},
   "outputs": [],
   "source": [
    "A = np.array([\n",
    "    [1, 2],\n",
    "    [4, 5]\n",
    "])\n",
    "\n",
    "B = np.array([\n",
    "    [1, 1],\n",
    "    [0, 2],\n",
    "])\n",
    "\n",
    "I = np.identity(2)"
   ]
  },
  {
   "cell_type": "code",
   "execution_count": 9,
   "metadata": {},
   "outputs": [
    {
     "data": {
      "text/plain": [
       "array([[1., 2.],\n",
       "       [4., 5.]])"
      ]
     },
     "execution_count": 9,
     "metadata": {},
     "output_type": "execute_result"
    }
   ],
   "source": [
    "I @ A"
   ]
  },
  {
   "cell_type": "code",
   "execution_count": 10,
   "metadata": {},
   "outputs": [
    {
     "data": {
      "text/plain": [
       "array([[1., 2.],\n",
       "       [4., 5.]])"
      ]
     },
     "execution_count": 10,
     "metadata": {},
     "output_type": "execute_result"
    }
   ],
   "source": [
    "A @ I"
   ]
  },
  {
   "cell_type": "markdown",
   "metadata": {},
   "source": [
    "## Matrix inverse\n",
    "\n",
    "The inverse of a scalar $s$ is a value $i$ such that $s \\times i = 1$ aka \"identity\" (example $3 \\times 3^{-1} = 1$).\n",
    "\n",
    "In matrices, some will have an inverse (only matrices that are $m \\times m$). Other cases mean a matrix has no inverse, like an all-$0$ matrix. The matrices without an inverse are called **\"singular\"** or **\"degenerate\"** matrices.\n",
    "\n",
    "If $A$ is an $m \\times m$ matrix, and if it has an inverse:\n",
    "\n",
    "$$\n",
    "A \\times A^{-1} = A^{-1} \\times A = I\n",
    "$$\n",
    "\n",
    "For example:\n",
    "\n",
    "$$\n",
    "\\begin{bmatrix}3 & 4 \\\\ 2 & 16\\end{bmatrix} \\times \\begin{bmatrix}0.4 & -0.1 \\\\ -0.05 & 0.075\\end{bmatrix} = \\begin{bmatrix}1 & 0 \\\\ 0 & 1\\end{bmatrix} = I_{2 \\times 2}\n",
    "$$"
   ]
  },
  {
   "cell_type": "code",
   "execution_count": 11,
   "metadata": {},
   "outputs": [
    {
     "data": {
      "text/plain": [
       "array([[ 3,  4],\n",
       "       [ 2, 16]])"
      ]
     },
     "execution_count": 11,
     "metadata": {},
     "output_type": "execute_result"
    }
   ],
   "source": [
    "A = np.array([\n",
    "    [3, 4],\n",
    "    [2, 16],\n",
    "])\n",
    "A"
   ]
  },
  {
   "cell_type": "code",
   "execution_count": 12,
   "metadata": {},
   "outputs": [
    {
     "data": {
      "text/plain": [
       "array([[ 0.4  , -0.1  ],\n",
       "       [-0.05 ,  0.075]])"
      ]
     },
     "execution_count": 12,
     "metadata": {},
     "output_type": "execute_result"
    }
   ],
   "source": [
    "I = inv(A)\n",
    "I"
   ]
  },
  {
   "cell_type": "code",
   "execution_count": 13,
   "metadata": {},
   "outputs": [
    {
     "data": {
      "text/plain": [
       "array([[1., 0.],\n",
       "       [0., 1.]])"
      ]
     },
     "execution_count": 13,
     "metadata": {},
     "output_type": "execute_result"
    }
   ],
   "source": [
    "A @ I"
   ]
  },
  {
   "cell_type": "markdown",
   "metadata": {},
   "source": [
    "## Matrix transpose\n",
    "\n",
    "$$\n",
    "A = \\begin{bmatrix}1 & 2 & 0 \\\\ 3 & 5 & 9\\end{bmatrix} \\quad A^T = \\begin{bmatrix}1 & 3 \\\\ 2 & 5 \\\\ 0 & 9\\end{bmatrix}\n",
    "$$\n",
    "\n",
    "To get a transpose, simply take row 1 of A, which now becomes columm 1 of $A^T$ (essentally just switch row and column for each item). The matrix goes from $m \\times n$ to $n \\times m$.\n",
    "\n",
    "$$\n",
    "A_{ij} = A^T_{ji}\n",
    "$$"
   ]
  },
  {
   "cell_type": "code",
   "execution_count": 14,
   "metadata": {},
   "outputs": [
    {
     "data": {
      "text/plain": [
       "array([[1, 2, 0],\n",
       "       [3, 5, 9]])"
      ]
     },
     "execution_count": 14,
     "metadata": {},
     "output_type": "execute_result"
    }
   ],
   "source": [
    "A = np.array([\n",
    "    [1, 2, 0],\n",
    "    [3, 5, 9],\n",
    "])\n",
    "A"
   ]
  },
  {
   "cell_type": "code",
   "execution_count": 15,
   "metadata": {},
   "outputs": [
    {
     "data": {
      "text/plain": [
       "array([[1, 3],\n",
       "       [2, 5],\n",
       "       [0, 9]])"
      ]
     },
     "execution_count": 15,
     "metadata": {},
     "output_type": "execute_result"
    }
   ],
   "source": [
    "np.transpose(A)"
   ]
  }
 ],
 "metadata": {
  "kernelspec": {
   "display_name": "Python 3",
   "language": "python",
   "name": "python3"
  },
  "language_info": {
   "codemirror_mode": {
    "name": "ipython",
    "version": 3
   },
   "file_extension": ".py",
   "mimetype": "text/x-python",
   "name": "python",
   "nbconvert_exporter": "python",
   "pygments_lexer": "ipython3",
   "version": "3.8.3"
  },
  "toc-autonumbering": false,
  "toc-showcode": false,
  "toc-showmarkdowntxt": false
 },
 "nbformat": 4,
 "nbformat_minor": 4
}
