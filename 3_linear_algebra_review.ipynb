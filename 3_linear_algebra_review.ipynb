{
 "cells": [
  {
   "cell_type": "markdown",
   "metadata": {},
   "source": [
    "# Linear algebra review\n",
    "\n",
    "Review of some of the linear algebra required for machine learning."
   ]
  },
  {
   "cell_type": "markdown",
   "metadata": {},
   "source": [
    "For matrix and vector usage in python, we will import the `numpy` package."
   ]
  },
  {
   "cell_type": "code",
   "execution_count": 5,
   "metadata": {},
   "outputs": [],
   "source": [
    "import numpy as np"
   ]
  },
  {
   "cell_type": "markdown",
   "metadata": {},
   "source": [
    "## Notation\n",
    "\n",
    "| Value | Meaning |\n",
    "| :-: | :-- |\n",
    "| $\\begin{vmatrix}a & b\\\\c & d\\end{vmatrix}$ | matrix - multiple columns |\n",
    "| $\\begin{vmatrix}a \\\\ b \\\\ c \\\\ d\\end{vmatrix}$ | vector - a n x 1 matrix |\n",
    "\n",
    "> Generally uppercase letters refer to matrices, whereas lowercase refers to numbers, scalars, and vectors."
   ]
  },
  {
   "cell_type": "markdown",
   "metadata": {},
   "source": [
    "## Matrices and vectors"
   ]
  },
  {
   "cell_type": "markdown",
   "metadata": {},
   "source": [
    "### Matrix\n",
    "\n",
    "A rectangular array of numbers with dimensions are written as `rows x columns`\n",
    "\n",
    "- \"A 2 x 5 matrix\" is 4 rows, 2 columns\n",
    "- Also could be $\\mathbb{R}^{4\\times2}$\n",
    "\n",
    "Denoting elements of a matrix:\n",
    "\n",
    "$$\n",
    "A = \\begin{vmatrix}\n",
    "1 && 2 && 3 \\\\\n",
    "4 && 5 && 6 \\\\\n",
    "7 && 8 && 9 \\\\\n",
    "10 && 11 && 12\n",
    "\\end{vmatrix}\n",
    "$$"
   ]
  },
  {
   "cell_type": "markdown",
   "metadata": {},
   "source": [
    "Denoting the matrix in python:"
   ]
  },
  {
   "cell_type": "code",
   "execution_count": 9,
   "metadata": {},
   "outputs": [],
   "source": [
    "A = np.matrix([\n",
    "    [1, 2, 3],\n",
    "    [4, 5, 6],\n",
    "    [7, 8, 9],\n",
    "    [10, 11, 12],\n",
    "])"
   ]
  },
  {
   "cell_type": "markdown",
   "metadata": {},
   "source": [
    "Syntax for an item of the matrix:\n",
    "\n",
    "$$\n",
    "A_{ij} = \\text{entry at $i$th row and $j$th column}\n",
    "$$\n",
    "\n",
    "$$\n",
    "A_{42} = 11\n",
    "$$"
   ]
  },
  {
   "cell_type": "markdown",
   "metadata": {},
   "source": [
    "Items in python are the same except for 0-indexing:"
   ]
  },
  {
   "cell_type": "code",
   "execution_count": 11,
   "metadata": {},
   "outputs": [
    {
     "name": "stdout",
     "output_type": "stream",
     "text": [
      "11\n"
     ]
    }
   ],
   "source": [
    "A_42 = A[3, 1]\n",
    "print(A_42)"
   ]
  },
  {
   "cell_type": "markdown",
   "metadata": {},
   "source": [
    "### Vector\n",
    "\n",
    "A single column matrix with dimensions written as `n dimensions`.\n",
    "\n",
    "- \"A 4-dimensional vector\" is 4 rows\n",
    "- Also could be $\\mathbb{R}^{4}$\n",
    "\n",
    "Denoting the elements of a vector:\n",
    "\n",
    "$$\n",
    "y = \\begin{vmatrix}\n",
    "1 \\\\\n",
    "2 \\\\\n",
    "3\n",
    "\\end{vmatrix}\n",
    "$$"
   ]
  },
  {
   "cell_type": "markdown",
   "metadata": {},
   "source": [
    "Denoting the vector in python:"
   ]
  },
  {
   "cell_type": "code",
   "execution_count": 15,
   "metadata": {},
   "outputs": [],
   "source": [
    "y = np.array([1, 2, 3])"
   ]
  },
  {
   "cell_type": "markdown",
   "metadata": {},
   "source": [
    "Syntax for an item in the vector:\n",
    "\n",
    "$$\n",
    "y_{i} = \\text{entry at $i$th row}\n",
    "$$\n",
    "\n",
    "$$\n",
    "y_{2} = 232\n",
    "$$"
   ]
  },
  {
   "cell_type": "markdown",
   "metadata": {},
   "source": [
    "Items in python (again, same but 0-indexed):"
   ]
  },
  {
   "cell_type": "code",
   "execution_count": 16,
   "metadata": {},
   "outputs": [
    {
     "name": "stdout",
     "output_type": "stream",
     "text": [
      "2\n"
     ]
    }
   ],
   "source": [
    "y_2 = y[1]\n",
    "print(y_2)"
   ]
  }
 ],
 "metadata": {
  "kernelspec": {
   "display_name": "Python 3",
   "language": "python",
   "name": "python3"
  },
  "language_info": {
   "codemirror_mode": {
    "name": "ipython",
    "version": 3
   },
   "file_extension": ".py",
   "mimetype": "text/x-python",
   "name": "python",
   "nbconvert_exporter": "python",
   "pygments_lexer": "ipython3",
   "version": "3.8.3"
  }
 },
 "nbformat": 4,
 "nbformat_minor": 4
}
