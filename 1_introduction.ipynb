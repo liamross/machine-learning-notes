{
 "metadata": {
  "language_info": {
   "codemirror_mode": {
    "name": "ipython",
    "version": 3
   },
   "file_extension": ".py",
   "mimetype": "text/x-python",
   "name": "python",
   "nbconvert_exporter": "python",
   "pygments_lexer": "ipython3",
   "version": 3
  },
  "orig_nbformat": 2
 },
 "nbformat": 4,
 "nbformat_minor": 2,
 "cells": [
  {
   "cell_type": "markdown",
   "metadata": {},
   "source": [
    "# Introduction\n",
    "\n",
    "Defining the initial terms, basic categories of machine learning, as well as real life applications of them."
   ]
  },
  {
   "cell_type": "markdown",
   "metadata": {},
   "source": [
    "## Terms\n",
    "\n",
    "- [machine learning] - definition of T, P and E\n",
    "  - [supervised learning] - given many right answers\n",
    "    - [classification problem] - discrete values\n",
    "    - [regression problem] - continuous values\n",
    "  - [unsupervised learning] - given data, determines categories\n",
    "    - [clustering algorithm] - cluster data into groups\n",
    "    - [non-clustering algorithm] - extracts data from a group"
   ]
  }
 ]
}