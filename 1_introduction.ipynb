{
 "cells": [
  {
   "cell_type": "markdown",
   "metadata": {},
   "source": [
    "# Introduction\n",
    "\n",
    "Defining the initial terms, basic categories of machine learning, as well as real life applications of them."
   ]
  },
  {
   "cell_type": "markdown",
   "metadata": {},
   "source": [
    "## Terms\n",
    "\n",
    "- [machine learning](terms/machine_learning.ipynb) - definition of T, P and E\n",
    "  - [supervised learning](terms/supervised_learning.ipynb) - given many right answers\n",
    "    - [classification problem](terms/classification_problem.ipynb) - discrete values\n",
    "    - [regression problem](terms/regression_problem.ipynb) - continuous values\n",
    "  - [unsupervised learning](terms/unsupervised_learning.ipynb) - given data, determines categories\n",
    "    - [clustering algorithm](terms/clustering_algorithm.ipynb) - cluster data into groups\n",
    "    - [non-clustering algorithm](terms/non-clustering_algorithm.ipynb) - extracts data from a group"
   ]
  }
 ],
 "metadata": {
  "kernelspec": {
   "display_name": "Python 3",
   "language": "python",
   "name": "python3"
  },
  "language_info": {
   "codemirror_mode": {
    "name": "ipython",
    "version": 3
   },
   "file_extension": ".py",
   "mimetype": "text/x-python",
   "name": "python",
   "nbconvert_exporter": "python",
   "pygments_lexer": "ipython3",
   "version": "3.8.3"
  }
 },
 "nbformat": 4,
 "nbformat_minor": 4
}