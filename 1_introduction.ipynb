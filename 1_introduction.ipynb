{
 "cells": [
  {
   "cell_type": "markdown",
   "metadata": {},
   "source": [
    "# Introduction\n",
    "\n",
    "Defining the initial terms, basic categories of machine learning, as well as real life applications of them."
   ]
  },
  {
   "cell_type": "markdown",
   "metadata": {},
   "source": [
    "## Contents\n",
    "\n",
    "- [Machine learning](#Machine-learning) - definition of T, P and E\n",
    "  - [Supervised learning](#Supervised-learning) - given many right answers\n",
    "    - [Classification problem](#Classification-problem) - discrete values\n",
    "    - [Regression problem](#Regression-problem) - continuous values\n",
    "  - [Unsupervised learning](#Unsupervised-learning) - given data, determines categories\n",
    "    - [Clustering algorithm](#Clustering-algorithm) - cluster data into groups\n",
    "    - [Non-clustering algorithm](#Non-clustering-algorithm) - extracts data from a group"
   ]
  },
  {
   "cell_type": "markdown",
   "metadata": {},
   "source": [
    "## Machine learning\n",
    "\n",
    "> A computer program is said to learn from experience E with respect to some class of tasks T and performance measure P, if its performance at tasks in T, as measured by P, improves with experience E.\n",
    ">\n",
    "> \\- Tom Mitchell\n",
    "\n",
    "Machine learning can be further categorized into [supervised learning](#Supervised-learning) and [unsupervised learning](#Unsupervised-learning).\n",
    "\n",
    "> **Example:**\n",
    ">\n",
    "> An algorithm that can play checkers.\n",
    ">\n",
    "> **E** - Playing checkers (the experience)\n",
    ">\n",
    "> **T** - Winning checkers games (the task)\n",
    ">\n",
    "> **P** - Probability of winning a game (the performance)"
   ]
  },
  {
   "cell_type": "markdown",
   "metadata": {},
   "source": [
    "### Supervised learning\n",
    "\n",
    "In supervised learning, we already know what a \"right answer\" looks like.\n",
    "\n",
    "- we provide \"right answers\"\n",
    "- the algorithm attempts to give a \"right answer\" given a set of inputs\n",
    "\n",
    "A supervised learning problem is categorized as one of the following:\n",
    "\n",
    "- [classification problem](#Classification-problem)\n",
    "- [regression problem](#Regression-problem)\n",
    "\n",
    "![](./static/supervised_simple.png)"
   ]
  },
  {
   "cell_type": "markdown",
   "metadata": {},
   "source": [
    "#### Classification problem\n",
    "\n",
    "A classification problem is a type of supervised learning problem.\n",
    "\n",
    "**Initial data:** A set of discrete values (true or false, red blue or green).\n",
    "\n",
    "**Goal:** Predict a discrete value output.\n",
    "\n",
    "**Example:** Breast cancer (malignant or benign) based on tumor size, determine whether an account has been hacked or not."
   ]
  },
  {
   "cell_type": "markdown",
   "metadata": {},
   "source": [
    "#### Regression problem\n",
    "\n",
    "A regression problem is a type of supervised learning problem.\n",
    "\n",
    "**Initial data:** Points across multiple axis of continuous values.\n",
    "\n",
    "**Goal:** Predict a continuous value output.\n",
    "\n",
    "**Example:** Housing prices based on size of house, how much inventory of identical items you will sell."
   ]
  },
  {
   "cell_type": "markdown",
   "metadata": {},
   "source": [
    "### Unsupervised learning\n",
    "\n",
    "In unsupervised learning, we have data but we don't know exactly what it is, or what to do with it. We ask the algorithm to find the structure.\n",
    "\n",
    "An unsupervised learning problem is categorized as one of the following:\n",
    "\n",
    "- [clustering algorithm](#Clustering-algorithm)\n",
    "- [non-clustering algorithm](#Non-clustering-algorithm)\n",
    "\n",
    "![](./static/unsupervised_simple.png)"
   ]
  },
  {
   "cell_type": "markdown",
   "metadata": {},
   "source": [
    "#### Clustering algorithm\n",
    "\n",
    "A clustering algorithm takes unsupervised data and groups it based on patterns identified by the algorithm.\n",
    "\n",
    "**Example:** Determine friend groups in social media, group customer segments, organize computing warehouses based on which parts communicate most frequently."
   ]
  },
  {
   "cell_type": "markdown",
   "metadata": {},
   "source": [
    "#### Non-clustering algorithm\n",
    "A non-clustering algorithm takes clustered unsupervised data and separates it based on determined structures.\n",
    "\n",
    "**Example:** Cocktail party problem: given multiple microphones, isolate independent voices at a cocktail party."
   ]
  }
 ],
 "metadata": {
  "kernelspec": {
   "display_name": "Python 3",
   "language": "python",
   "name": "python3"
  },
  "language_info": {
   "codemirror_mode": {
    "name": "ipython",
    "version": 3
   },
   "file_extension": ".py",
   "mimetype": "text/x-python",
   "name": "python",
   "nbconvert_exporter": "python",
   "pygments_lexer": "ipython3",
   "version": "3.8.3"
  }
 },
 "nbformat": 4,
 "nbformat_minor": 4
}
