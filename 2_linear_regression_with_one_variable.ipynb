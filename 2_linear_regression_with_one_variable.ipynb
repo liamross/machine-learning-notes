{
 "cells": [
  {
   "cell_type": "markdown",
   "metadata": {},
   "source": [
    "# Linear regression with one variable\n",
    "\n",
    "Outlining multiple linear regression algorithms."
   ]
  },
  {
   "cell_type": "markdown",
   "metadata": {},
   "source": [
    "## Notation\n",
    "\n",
    "| Value | Meaning |\n",
    "| :-: | :-- |\n",
    "| $m$ | number of training examples |\n",
    "| $x$'s | \"input\" variable / features (ex size of house) |\n",
    "| $y$'s | \"output\" variable / \"target\" variable (ex price of house) |\n",
    "| $(x, y)$ | a single training example (row in table) |\n",
    "| $(x^{(i)}, y^{(i)})$ | $i$th training example (*1 indexed*) |\n",
    "| $(x^{(i)}, y^{(i)});i=1,...,m$ | training set |\n",
    "| $h$ | hypothesis - function that maps from $x$ to $y$ |\n",
    "| $:=$ | assignment operator |"
   ]
  },
  {
   "cell_type": "markdown",
   "metadata": {},
   "source": [
    "## Terms\n",
    "\n",
    "- [linear regression model](terms/linear_regression_model.ipynb) - model to solve supervised problems\n",
    "  - [training set](terms/training_set.ipynb) - the input data\n",
    "  - [linear hypothesis](terms/linear_hypothesis.ipynb) - standard hypothesis for linear models\n",
    "- [cost function](terms/cost_function.ipynb) - function to estimate error cost\n",
    "- [gradient descent](terms/gradient_descent.ipynb) - finds parameters for function"
   ]
  }
 ],
 "metadata": {
  "kernelspec": {
   "display_name": "Python 3",
   "language": "python",
   "name": "python3"
  },
  "language_info": {
   "codemirror_mode": {
    "name": "ipython",
    "version": 3
   },
   "file_extension": ".py",
   "mimetype": "text/x-python",
   "name": "python",
   "nbconvert_exporter": "python",
   "pygments_lexer": "ipython3",
   "version": "3.8.3"
  }
 },
 "nbformat": 4,
 "nbformat_minor": 4
}
