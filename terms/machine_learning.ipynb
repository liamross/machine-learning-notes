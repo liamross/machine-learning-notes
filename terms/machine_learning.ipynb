{
 "metadata": {
  "language_info": {
   "codemirror_mode": {
    "name": "ipython",
    "version": 3
   },
   "file_extension": ".py",
   "mimetype": "text/x-python",
   "name": "python",
   "nbconvert_exporter": "python",
   "pygments_lexer": "ipython3",
   "version": 3
  },
  "orig_nbformat": 2
 },
 "nbformat": 4,
 "nbformat_minor": 2,
 "cells": [
  {
   "cell_type": "markdown",
   "metadata": {},
   "source": [
    "> A computer program is said to learn from experience E with respect to some class of tasks T and performance measure P, if its performance at tasks in T, as measured by P, improves with experience E.\n",
    ">\n",
    "> \\- Tom Mitchell\n",
    "\n",
    "# Example\n",
    "\n",
    "An algorithm that can play checkers.\n",
    "\n",
    "**E** - Playing checkers (the experience)\n",
    "**T** - Winning checkers games (the task)\n",
    "**P** - Probability of winning a game (the performance)\n",
    "\n",
    "Machine learning can be further categorized into [supervised learning](supervised_learning.ipynb) and [unsupervised learning](unsupervised_learning)."
   ]
  }
 ]
}