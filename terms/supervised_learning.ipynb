{
 "cells": [
  {
   "cell_type": "markdown",
   "metadata": {},
   "source": [
    "# Supervised learning\n",
    "\n",
    "In supervised learning, we already know what a \"right answer\" looks like.\n",
    "\n",
    "- we provide \"right answers\"\n",
    "- the algorithm attempts to give a \"right answer\" given a set of inputs\n",
    "\n",
    "One of the following:\n",
    "\n",
    "- [classification problem](classification_problem.ipynb)\n",
    "- [regression problem](regression_problem.ipynd)"
   ]
  },
  {
   "cell_type": "markdown",
   "metadata": {},
   "source": [
    "## Visualization\n",
    "\n",
    "![](../static/supervised_simple.png)\n"
   ]
  }
 ],
 "metadata": {
  "kernelspec": {
   "display_name": "Python 3",
   "language": "python",
   "name": "python3"
  },
  "language_info": {
   "codemirror_mode": {
    "name": "ipython",
    "version": 3
   },
   "file_extension": ".py",
   "mimetype": "text/x-python",
   "name": "python",
   "nbconvert_exporter": "python",
   "pygments_lexer": "ipython3",
   "version": "3.8.3"
  }
 },
 "nbformat": 4,
 "nbformat_minor": 4
}
