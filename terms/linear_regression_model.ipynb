{
 "cells": [
  {
   "cell_type": "markdown",
   "metadata": {},
   "source": [
    "# Linear regression model\n",
    "\n",
    "The linear regression model solves [regression problems](regression_problem.ipynd).\n",
    "\n",
    "![](../static/model_representation_overview.png)"
   ]
  },
  {
   "cell_type": "markdown",
   "metadata": {},
   "source": [
    "## Representing hypothesis\n",
    "\n",
    "Give the [training set](training_set.ipynd), we need a function where $h(x)$ is a good predictor of the corresponding value of $y$. That function is the hypothesis. For this we can use the [linear hypothesis](linear_hypothesis.ipynb#Equation).\n",
    "\n",
    "# Example\n",
    "\n",
    "For example, we could use:\n",
    "\n",
    "- [linear hypothesis](linear_hypothesis.ipynd) for calculating best-fit in linear data\n",
    "- [cost function](cost_function.ipynd) to calculate difference between linear hypothesis and data given a set of parameters\n",
    "- [gradient descent](gradient_descent.ipynd) to find best parameters for the cost function"
   ]
  }
 ],
 "metadata": {
  "kernelspec": {
   "display_name": "Python 3",
   "language": "python",
   "name": "python3"
  },
  "language_info": {
   "codemirror_mode": {
    "name": "ipython",
    "version": 3
   },
   "file_extension": ".py",
   "mimetype": "text/x-python",
   "name": "python",
   "nbconvert_exporter": "python",
   "pygments_lexer": "ipython3",
   "version": "3.8.3"
  }
 },
 "nbformat": 4,
 "nbformat_minor": 4
}
