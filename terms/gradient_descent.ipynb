{
 "cells": [
  {
   "cell_type": "markdown",
   "metadata": {},
   "source": [
    "# Gradient descent\n",
    "\n",
    "Gradient descent is a way of estimating the best parameters for a function. Depending on the function, gradient descent may converge on local optima (a local \"low point\") rather than the global optima. The steps are:\n",
    "\n",
    "1. choose an arbitrary starting value for each parameter\n",
    "2. \"step downhill\" (towards lowest proximal function value)\n",
    "3. continue until you reach a global minimum value for your function\n",
    "\n",
    "> There is a [normal equations method](normal_equations_method.ipynb) which will solve the same problems without multiple steps, but it doesn't scale as well with large training sets\n",
    "\n",
    "There can be an arbitrary number of $\\theta$'s, but the following graph shows just two: $\\theta_0$ and $\\theta_1$.\n",
    "\n",
    "![](../static/gradient_descent_graph.png)\n",
    "\n",
    "**aka:** \"Batch gradient descent\" (looks at all training set - some versions may not)."
   ]
  },
  {
   "cell_type": "markdown",
   "metadata": {},
   "source": [
    "## Gradient descent\n",
    "\n",
    "repeat until convergence:\n",
    "$\\theta_j := \\theta_j - \\alpha\\frac{\\partial}{\\partial\\theta_j}J(\\theta_0, \\theta_1)$ (for $j = 0$ and $j = 1$ - aka do it for both thetas)\n",
    "\n",
    "$\\alpha$ = **learning rate** - controls how big of a step we take \"downhill\". If too small, might take too long to reach minimum. If too large, could overshoot and even fail to converge.\n",
    "\n",
    "$\\frac{\\partial}{\\partial\\theta_j}J(\\theta_0, \\theta_1)$ = **derivative term** - the current slope of the function $J$ given the current $\\theta_0$ and $\\theta_1$. This allows for the \"steps\" to get smaller as we approach the global minimum (where slope will be 0).\n",
    "\n",
    "All thetas must be updated simultaneously:\n",
    "\n",
    "```go\n",
    "temp0 := gradientDescent(theta0)\n",
    "temp1 := gradientDescent(theta1)\n",
    "theta0, theta1 := temp0, temp1\n",
    "```"
   ]
  },
  {
   "cell_type": "markdown",
   "metadata": {},
   "source": [
    "## Examples\n",
    "\n",
    "### With zero-value for $\\theta_0$\n",
    "\n",
    "Simplify by setting $\\theta_0 = 0$ (same as removing $\\theta_0$ from the equations).\n",
    "\n",
    "Gradient descent: $\\theta_1 := \\theta_1 - \\alpha\\frac{\\partial}{\\partial\\theta_1}J(\\theta_1)$\n",
    "\n",
    "![](../static/gradient_descent_example.png)\n",
    "\n",
    "Derivative term has positive slope, so $\\theta_1 := \\theta_1 - \\alpha(positive)$ means $\\theta_1$ will decrease (moving towards the minimum).\n",
    "\n",
    "### Solving the cost function\n",
    "\n",
    "Plug in the [cost function](cost_function.ipynb):\n",
    "\n",
    "$$\n",
    "\\frac{\\partial}{\\partial\\theta_j}J(\\theta_0, \\theta_1) = \\frac{\\partial}{\\partial\\theta_j}\\frac{1}{2m}\\sum_{i=1}^m (h_\\theta(x^{(i)}) - y^{(i)})^2\n",
    "$$\n",
    "\n",
    "We need to determine for $j=0,1$:\n",
    "\n",
    "$$\n",
    "j=0:\\frac{1}{m}\\sum_{i=1}^m (h_\\theta(x^{(i)}) - y^{(i)})\n",
    "$$\n",
    "\n",
    "$$\n",
    "j=1:\\frac{1}{m}\\sum_{i=1}^m (h_\\theta(x^{(i)}) - y^{(i)})x^{(i)}\n",
    "$$\n",
    "\n",
    "Repeat until convergence:\n",
    "\n",
    "$$\n",
    "\\theta_0 := \\theta_0 - \\alpha\\frac{1}{m}\\sum_{i=1}^m (h_\\theta(x^{(i)}) - y^{(i)})\n",
    "$$\n",
    "\n",
    "$$\n",
    "\\theta_1 := \\theta_1 - \\alpha\\frac{1}{m}\\sum_{i=1}^m (h_\\theta(x^{(i)}) - y^{(i)})x^{(i)}\n",
    "$$"
   ]
  }
 ],
 "metadata": {
  "kernelspec": {
   "display_name": "Python 3",
   "language": "python",
   "name": "python3"
  },
  "language_info": {
   "codemirror_mode": {
    "name": "ipython",
    "version": 3
   },
   "file_extension": ".py",
   "mimetype": "text/x-python",
   "name": "python",
   "nbconvert_exporter": "python",
   "pygments_lexer": "ipython3",
   "version": "3.8.3"
  }
 },
 "nbformat": 4,
 "nbformat_minor": 4
}
