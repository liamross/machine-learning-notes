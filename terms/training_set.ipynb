{
 "cells": [
  {
   "cell_type": "markdown",
   "metadata": {},
   "source": [
    "# Training set\n",
    "\n",
    "The set of input data."
   ]
  },
  {
   "cell_type": "markdown",
   "metadata": {},
   "source": [
    "## Example\n",
    "\n",
    "For housing in Vancouver:\n",
    "\n",
    "| Size in feet$^{2}$ ($x$) | Price in 1000's ($y$) |\n",
    "| :-- | :-- |\n",
    "| 2104 | 1024 |\n",
    "| 1416 | 860 |\n",
    "| 1534 | 945 |\n",
    "| 852 | 560 |\n",
    "\n",
    "$$\n",
    "m = 4 \\text{ (4 rows)}\n",
    "$$"
   ]
  }
 ],
 "metadata": {
  "kernelspec": {
   "display_name": "Python 3",
   "language": "python",
   "name": "python3"
  },
  "language_info": {
   "codemirror_mode": {
    "name": "ipython",
    "version": 3
   },
   "file_extension": ".py",
   "mimetype": "text/x-python",
   "name": "python",
   "nbconvert_exporter": "python",
   "pygments_lexer": "ipython3",
   "version": "3.8.3"
  }
 },
 "nbformat": 4,
 "nbformat_minor": 4
}
