{
 "cells": [
  {
   "cell_type": "markdown",
   "metadata": {},
   "source": [
    "# Logistic regression"
   ]
  },
  {
   "cell_type": "markdown",
   "metadata": {},
   "source": [
    "## Contents\n",
    "\n",
    "- [Classification](#Classification)"
   ]
  },
  {
   "cell_type": "markdown",
   "metadata": {},
   "source": [
    "## Classification\n",
    "\n",
    "[Classification problems](1_introduction.ipynb#Classification-problem) are supervised learning problems with discrete output values.\n",
    "\n",
    "It can be denoted as:\n",
    "\n",
    "$$\n",
    "y\\in\\{0,1\\}\n",
    "$$\n",
    "\n",
    "Where 0 is the \"negative class\" and 1 is the \"positive class\". This can be expanded to include arbitrary numbers of classes ($y\\in\\{0,1,2,3\\}$ aka multiclass classification problem)."
   ]
  }
 ],
 "metadata": {
  "kernelspec": {
   "display_name": "Python 3",
   "language": "python",
   "name": "python3"
  },
  "language_info": {
   "codemirror_mode": {
    "name": "ipython",
    "version": 3
   },
   "file_extension": ".py",
   "mimetype": "text/x-python",
   "name": "python",
   "nbconvert_exporter": "python",
   "pygments_lexer": "ipython3",
   "version": "3.8.3"
  }
 },
 "nbformat": 4,
 "nbformat_minor": 4
}
