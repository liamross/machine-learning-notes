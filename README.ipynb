{
 "cells": [
  {
   "cell_type": "markdown",
   "metadata": {},
   "source": [
    "# Machine learning notes\n",
    "\n",
    "> 🚧 This is a work in progress!\n",
    "\n",
    "Notes written while taking the [Stanford machine learning course](https://www.coursera.org/learn/machine-learning). I decided to use Jupyter notebook and do all computation in Python rather than Octave, so some of the code will be quite different.\n",
    "\n",
    "Unfortunately, with Jupyter notebooks on GitHub internal links are broken (along with some rendering errors), so it may be better to view the notes in [Jupyter Notebook Viewer](https://nbviewer.jupyter.org/github/liamross/machine-learning-notes/tree/master/).\n",
    "\n",
    "All illustrations done using [Excalidraw](https://excalidraw.com/).\n",
    "\n",
    "## Modules\n",
    "\n",
    "1. [Introduction](1_introduction.ipynb)\n",
    "1. [Linear regression with one variable](2_linear_regression_with_one_variable.ipynb)\n",
    "1. [Linear algebra review](3_linear_algebra_review.ipynb)\n",
    "1. [Linear regression with multiple variables](4_linear_regression_with_multiple_variables.ipynb)\n",
    "\n",
    "## Notation\n",
    "\n",
    "| Value | Meaning |\n",
    "| :-: | :-- |\n",
    "| $m$ | number of training examples |\n",
    "| $n$ | number of features |\n",
    "| $x$ | input variable / features (ex size of house) |\n",
    "| $y$ | output variable / \"target variable\" (ex price of house) |\n",
    "| $x^{(i)}$ | input variable / feature of $i^{th}$ training example |\n",
    "| $x_j^{(i)}$ | value of feature $j$ in $i^{th}$ training example |\n",
    "| $y^{(i)}$ | output variable / \"target variable\" of $i^{th}$ training example |\n",
    "| $h$ | hypothesis - function that maps from $x$ to $y$ |\n",
    "| $:=$ | assignment operator |"
   ]
  }
 ],
 "metadata": {
  "kernelspec": {
   "display_name": "Python 3",
   "language": "python",
   "name": "python3"
  },
  "language_info": {
   "codemirror_mode": {
    "name": "ipython",
    "version": 3
   },
   "file_extension": ".py",
   "mimetype": "text/x-python",
   "name": "python",
   "nbconvert_exporter": "python",
   "pygments_lexer": "ipython3",
   "version": "3.8.3"
  }
 },
 "nbformat": 4,
 "nbformat_minor": 4
}
