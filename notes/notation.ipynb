{
 "cells": [
  {
   "cell_type": "markdown",
   "metadata": {},
   "source": [
    "# Notation\n",
    "\n",
    "| Value | Meaning |\n",
    "| :-: | :-- |\n",
    "| $m$ | number of training examples |\n",
    "| $n$ | number of features |\n",
    "| $x$ | input variable / features (ex size of house) |\n",
    "| $y$ | output variable / \"target variable\" (ex price of house) |\n",
    "| $x^{(i)}$ | input variable / feature of $i^{th}$ training example |\n",
    "| $x_j^{(i)}$ | value of feature $j$ in $i^{th}$ training example |\n",
    "| $y^{(i)}$ | output variable / \"target variable\" of $i^{th}$ training example |\n",
    "| $h$ | hypothesis - function that maps from $x$ to $y$ |\n",
    "| $:=$ | assignment operator |"
   ]
  }
 ],
 "metadata": {
  "kernelspec": {
   "display_name": "Python 3",
   "language": "python",
   "name": "python3"
  },
  "language_info": {
   "codemirror_mode": {
    "name": "ipython",
    "version": 3
   },
   "file_extension": ".py",
   "mimetype": "text/x-python",
   "name": "python",
   "nbconvert_exporter": "python",
   "pygments_lexer": "ipython3",
   "version": "3.8.3"
  }
 },
 "nbformat": 4,
 "nbformat_minor": 4
}
