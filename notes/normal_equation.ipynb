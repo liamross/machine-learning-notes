{
 "cells": [
  {
   "cell_type": "markdown",
   "metadata": {},
   "source": [
    "# Normal equation"
   ]
  },
  {
   "cell_type": "code",
   "execution_count": 1,
   "metadata": {},
   "outputs": [],
   "source": [
    "import numpy as np\n",
    "from numpy.linalg import pinv"
   ]
  },
  {
   "cell_type": "code",
   "execution_count": 2,
   "metadata": {},
   "outputs": [],
   "source": [
    "def normalEquation(X, y):\n",
    "    Xt = np.transpose(X)\n",
    "    return pinv(Xt @ X) @ Xt @ y"
   ]
  },
  {
   "cell_type": "markdown",
   "metadata": {},
   "source": [
    "Let's run it against some fake housing data:"
   ]
  },
  {
   "cell_type": "code",
   "execution_count": 3,
   "metadata": {},
   "outputs": [
    {
     "name": "stdout",
     "output_type": "stream",
     "text": [
      "Actual theta_0: 100  Normal equation theta_0: 99.99999999999994\n",
      "Actual theta_1: 40   Normal equation theta_1: 40.000000000000085\n"
     ]
    }
   ],
   "source": [
    "actual_theta = np.array([\n",
    "    [100],\n",
    "    [40],\n",
    "])\n",
    "\n",
    "X = np.array([\n",
    "    [1, 0.8],\n",
    "    [1, 2.3],\n",
    "    [1, 1.6],\n",
    "])\n",
    "\n",
    "y = X @ actual_theta\n",
    "\n",
    "theta = normalEquation(X, y)\n",
    "\n",
    "print(\"Actual theta_0:\", actual_theta.item(0, 0), \" Normal equation theta_0:\", theta.item(0, 0))\n",
    "print(\"Actual theta_1:\", actual_theta.item(1, 0), \"  Normal equation theta_1:\", theta.item(1, 0))"
   ]
  }
 ],
 "metadata": {
  "kernelspec": {
   "display_name": "Python 3",
   "language": "python",
   "name": "python3"
  },
  "language_info": {
   "codemirror_mode": {
    "name": "ipython",
    "version": 3
   },
   "file_extension": ".py",
   "mimetype": "text/x-python",
   "name": "python",
   "nbconvert_exporter": "python",
   "pygments_lexer": "ipython3",
   "version": "3.8.3"
  }
 },
 "nbformat": 4,
 "nbformat_minor": 4
}
